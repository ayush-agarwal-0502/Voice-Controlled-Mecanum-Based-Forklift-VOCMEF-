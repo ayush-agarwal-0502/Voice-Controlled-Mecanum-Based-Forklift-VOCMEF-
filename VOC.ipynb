{
  "cells": [
    {
      "cell_type": "code",
      "execution_count": null,
      "metadata": {
        "id": "dzLKpmZICaWN"
      },
      "outputs": [],
      "source": [
        "import os\n",
        "import pathlib\n",
        "\n",
        "import matplotlib.pyplot as plt\n",
        "import numpy as np\n",
        "import seaborn as sns\n",
        "import tensorflow as tf\n",
        "\n",
        "from tensorflow.keras import layers\n",
        "from tensorflow.keras import models\n",
        "from IPython import display\n",
        "\n",
        "seed = 42\n",
        "tf.random.set_seed(seed)\n",
        "np.random.seed(seed)"
      ]
    },
    {
      "cell_type": "code",
      "execution_count": null,
      "metadata": {
        "id": "2-rayb7-3Y0I",
        "colab": {
          "base_uri": "https://localhost:8080/"
        },
        "outputId": "20882959-f656-4ed4-b4d6-58a431feb162"
      },
      "outputs": [
        {
          "output_type": "stream",
          "name": "stdout",
          "text": [
            "Downloading data from http://storage.googleapis.com/download.tensorflow.org/data/mini_speech_commands.zip\n",
            "182083584/182082353 [==============================] - 5s 0us/step\n",
            "182091776/182082353 [==============================] - 5s 0us/step\n"
          ]
        }
      ],
      "source": [
        "DATASET_PATH = 'data/mini_speech_commands'\n",
        "\n",
        "data_dir = pathlib.Path(DATASET_PATH)\n",
        "if not data_dir.exists():\n",
        "  tf.keras.utils.get_file(\n",
        "      'mini_speech_commands.zip',\n",
        "      origin=\"http://storage.googleapis.com/download.tensorflow.org/data/mini_speech_commands.zip\",\n",
        "      extract=True,\n",
        "      cache_dir='.', cache_subdir='data')"
      ]
    },
    {
      "cell_type": "code",
      "execution_count": null,
      "metadata": {
        "id": "70IBxSKxA1N9",
        "colab": {
          "base_uri": "https://localhost:8080/"
        },
        "outputId": "46adbe1b-c7d0-48d1-8e5e-722158ad0ec8"
      },
      "outputs": [
        {
          "output_type": "stream",
          "name": "stdout",
          "text": [
            "Commands: ['yes' 'stop' 'down' 'right' 'left' 'up' 'go' 'no']\n"
          ]
        }
      ],
      "source": [
        "commands = np.array(tf.io.gfile.listdir(str(data_dir)))\n",
        "commands = commands[commands != 'README.md']\n",
        "print('Commands:', commands)"
      ]
    },
    {
      "cell_type": "code",
      "execution_count": null,
      "metadata": {
        "id": "hlX685l1wD9k"
      },
      "outputs": [],
      "source": [
        "filenames = tf.io.gfile.glob(str(data_dir) + '/*/*')\n",
        "filenames = tf.random.shuffle(filenames)\n",
        "num_samples = len(filenames)\n",
        "# print('Number of total examples:', num_samples)\n",
        "# print('Number of examples per label:',\n",
        "#       len(tf.io.gfile.listdir(str(data_dir/commands[0]))))\n",
        "# print('Example file tensor:', filenames[0])"
      ]
    },
    {
      "cell_type": "code",
      "execution_count": null,
      "metadata": {
        "id": "Cv_wts-l3KgD"
      },
      "outputs": [],
      "source": [
        "train_files = filenames[:6400]\n",
        "val_files = filenames[6400: 6400 + 800]\n",
        "test_files = filenames[-800:]\n",
        "\n",
        "# print('Training set size', len(train_files))\n",
        "# print('Validation set size', len(val_files))\n",
        "# print('Test set size', len(test_files))"
      ]
    },
    {
      "cell_type": "code",
      "execution_count": null,
      "metadata": {
        "id": "d16bb8416f90"
      },
      "outputs": [],
      "source": [
        "# test_file = tf.io.read_file(DATASET_PATH+'/down/0a9f9af7_nohash_0.wav')\n",
        "# test_audio, _ = tf.audio.decode_wav(contents=test_file)\n",
        "# test_audio.shape"
      ]
    },
    {
      "cell_type": "markdown",
      "metadata": {
        "id": "e6bb8defd2ef"
      },
      "source": [
        "Now, let's define a function that preprocesses the dataset's raw WAV audio files into audio tensors:"
      ]
    },
    {
      "cell_type": "code",
      "execution_count": null,
      "metadata": {
        "id": "9PjJ2iXYwftD"
      },
      "outputs": [],
      "source": [
        "def decode_audio(audio_binary):\n",
        "  # Decode WAV-encoded audio files to `float32` tensors, normalized\n",
        "  # to the [-1.0, 1.0] range. Return `float32` audio and a sample rate.\n",
        "  audio, _ = tf.audio.decode_wav(contents=audio_binary)\n",
        "  # Since all the data is single channel (mono), drop the `channels`\n",
        "  # axis from the array.\n",
        "  return tf.squeeze(audio, axis=-1)"
      ]
    },
    {
      "cell_type": "code",
      "execution_count": null,
      "metadata": {
        "id": "8VTtX1nr3YT-"
      },
      "outputs": [],
      "source": [
        "def get_label(file_path):\n",
        "  parts = tf.strings.split(\n",
        "      input=file_path,\n",
        "      sep=os.path.sep)\n",
        "  return parts[-2]"
      ]
    },
    {
      "cell_type": "code",
      "execution_count": null,
      "metadata": {
        "id": "WdgUD5T93NyT"
      },
      "outputs": [],
      "source": [
        "def get_waveform_and_label(file_path):\n",
        "  label = get_label(file_path)\n",
        "  audio_binary = tf.io.read_file(file_path)\n",
        "  waveform = decode_audio(audio_binary)\n",
        "  return waveform, label"
      ]
    },
    {
      "cell_type": "code",
      "execution_count": null,
      "metadata": {
        "id": "0SQl8yXl3kNP"
      },
      "outputs": [],
      "source": [
        "AUTOTUNE = tf.data.AUTOTUNE\n",
        "\n",
        "files_ds = tf.data.Dataset.from_tensor_slices(train_files)\n",
        "\n",
        "waveform_ds = files_ds.map(\n",
        "    map_func=get_waveform_and_label,\n",
        "    num_parallel_calls=AUTOTUNE)"
      ]
    },
    {
      "cell_type": "code",
      "execution_count": null,
      "metadata": {
        "id": "8yuX6Nqzf6wT"
      },
      "outputs": [],
      "source": [
        "# rows = 3\n",
        "# cols = 3\n",
        "# n = rows * cols\n",
        "# fig, axes = plt.subplots(rows, cols, figsize=(10, 12))\n",
        "\n",
        "# for i, (audio, label) in enumerate(waveform_ds.take(n)):\n",
        "#   r = i // cols\n",
        "#   c = i % cols\n",
        "#   ax = axes[r][c]\n",
        "#   ax.plot(audio.numpy())\n",
        "#   ax.set_yticks(np.arange(-1.2, 1.2, 0.2))\n",
        "#   label = label.numpy().decode('utf-8')\n",
        "#   ax.set_title(label)\n",
        "\n",
        "# plt.show()"
      ]
    },
    {
      "cell_type": "code",
      "execution_count": null,
      "metadata": {
        "id": "_4CK75DHz_OR"
      },
      "outputs": [],
      "source": [
        "def get_spectrogram(waveform):\n",
        "  # Zero-padding for an audio waveform with less than 16,000 samples.\n",
        "  input_len = 16000\n",
        "  waveform = waveform[:input_len]\n",
        "  zero_padding = tf.zeros(\n",
        "      [16000] - tf.shape(waveform),\n",
        "      dtype=tf.float32)\n",
        "  # Cast the waveform tensors' dtype to float32.\n",
        "  waveform = tf.cast(waveform, dtype=tf.float32)\n",
        "  # Concatenate the waveform with `zero_padding`, which ensures all audio\n",
        "  # clips are of the same length.\n",
        "  equal_length = tf.concat([waveform, zero_padding], 0)\n",
        "  # Convert the waveform to a spectrogram via a STFT.\n",
        "  spectrogram = tf.signal.stft(\n",
        "      equal_length, frame_length=255, frame_step=128)\n",
        "  # Obtain the magnitude of the STFT.\n",
        "  spectrogram = tf.abs(spectrogram)\n",
        "  # Add a `channels` dimension, so that the spectrogram can be used\n",
        "  # as image-like input data with convolution layers (which expect\n",
        "  # shape (`batch_size`, `height`, `width`, `channels`).\n",
        "  spectrogram = spectrogram[..., tf.newaxis]\n",
        "  return spectrogram"
      ]
    },
    {
      "cell_type": "code",
      "execution_count": null,
      "metadata": {
        "id": "4Mu6Y7Yz3C-V"
      },
      "outputs": [],
      "source": [
        "for waveform, label in waveform_ds.take(1):\n",
        "  label = label.numpy().decode('utf-8')\n",
        "  spectrogram = get_spectrogram(waveform)\n",
        "\n",
        "# print('Label:', label)\n",
        "# print('Waveform shape:', waveform.shape)\n",
        "# print('Spectrogram shape:', spectrogram.shape)\n",
        "# print('Audio playback')\n",
        "# display.display(display.Audio(waveform, rate=16000))"
      ]
    },
    {
      "cell_type": "code",
      "execution_count": null,
      "metadata": {
        "id": "e62jzb36-Jog"
      },
      "outputs": [],
      "source": [
        "def plot_spectrogram(spectrogram, ax):\n",
        "  if len(spectrogram.shape) > 2:\n",
        "    assert len(spectrogram.shape) == 3\n",
        "    spectrogram = np.squeeze(spectrogram, axis=-1)\n",
        "  # Convert the frequencies to log scale and transpose, so that the time is\n",
        "  # represented on the x-axis (columns).\n",
        "  # Add an epsilon to avoid taking a log of zero.\n",
        "  log_spec = np.log(spectrogram.T + np.finfo(float).eps)\n",
        "  height = log_spec.shape[0]\n",
        "  width = log_spec.shape[1]\n",
        "  X = np.linspace(0, np.size(spectrogram), num=width, dtype=int)\n",
        "  Y = range(height)\n",
        "  ax.pcolormesh(X, Y, log_spec)"
      ]
    },
    {
      "cell_type": "code",
      "execution_count": null,
      "metadata": {
        "id": "d2_CikgY1tjv"
      },
      "outputs": [],
      "source": [
        "# fig, axes = plt.subplots(2, figsize=(12, 8))\n",
        "# timescale = np.arange(waveform.shape[0])\n",
        "# axes[0].plot(timescale, waveform.numpy())\n",
        "# axes[0].set_title('Waveform')\n",
        "# axes[0].set_xlim([0, 16000])\n",
        "\n",
        "# plot_spectrogram(spectrogram.numpy(), axes[1])\n",
        "# axes[1].set_title('Spectrogram')\n",
        "# plt.show()"
      ]
    },
    {
      "cell_type": "code",
      "execution_count": null,
      "metadata": {
        "id": "43IS2IouEV40"
      },
      "outputs": [],
      "source": [
        "def get_spectrogram_and_label_id(audio, label):\n",
        "  spectrogram = get_spectrogram(audio)\n",
        "  label_id = tf.argmax(label == commands)\n",
        "  return spectrogram, label_id"
      ]
    },
    {
      "cell_type": "code",
      "execution_count": null,
      "metadata": {
        "id": "yEVb_oK0oBLQ"
      },
      "outputs": [],
      "source": [
        "spectrogram_ds = waveform_ds.map(\n",
        "  map_func=get_spectrogram_and_label_id,\n",
        "  num_parallel_calls=AUTOTUNE)"
      ]
    },
    {
      "cell_type": "code",
      "execution_count": null,
      "metadata": {
        "id": "QUbHfTuon4iF"
      },
      "outputs": [],
      "source": [
        "# rows = 3\n",
        "# cols = 3\n",
        "# n = rows*cols\n",
        "# fig, axes = plt.subplots(rows, cols, figsize=(10, 10))\n",
        "\n",
        "# for i, (spectrogram, label_id) in enumerate(spectrogram_ds.take(n)):\n",
        "#   r = i // cols\n",
        "#   c = i % cols\n",
        "#   ax = axes[r][c]\n",
        "#   plot_spectrogram(spectrogram.numpy(), ax)\n",
        "#   ax.set_title(commands[label_id.numpy()])\n",
        "#   ax.axis('off')\n",
        "\n",
        "# plt.show()"
      ]
    },
    {
      "cell_type": "markdown",
      "metadata": {
        "id": "z5KdY8IF8rkt"
      },
      "source": [
        "## Build and train the model\n",
        "\n",
        "Repeat the training set preprocessing on the validation and test sets:"
      ]
    },
    {
      "cell_type": "code",
      "execution_count": null,
      "metadata": {
        "id": "10UI32QH_45b"
      },
      "outputs": [],
      "source": [
        "def preprocess_dataset(files):\n",
        "  files_ds = tf.data.Dataset.from_tensor_slices(files)\n",
        "  output_ds = files_ds.map(\n",
        "      map_func=get_waveform_and_label,\n",
        "      num_parallel_calls=AUTOTUNE)\n",
        "  output_ds = output_ds.map(\n",
        "      map_func=get_spectrogram_and_label_id,\n",
        "      num_parallel_calls=AUTOTUNE)\n",
        "  return output_ds"
      ]
    },
    {
      "cell_type": "code",
      "execution_count": null,
      "metadata": {
        "id": "HNv4xwYkB2P6"
      },
      "outputs": [],
      "source": [
        "train_ds = spectrogram_ds\n",
        "val_ds = preprocess_dataset(val_files)\n",
        "test_ds = preprocess_dataset(test_files)"
      ]
    },
    {
      "cell_type": "markdown",
      "metadata": {
        "id": "assnWo6SB3lR"
      },
      "source": [
        "Batch the training and validation sets for model training:"
      ]
    },
    {
      "cell_type": "code",
      "execution_count": null,
      "metadata": {
        "id": "UgY9WYzn61EX"
      },
      "outputs": [],
      "source": [
        "batch_size = 64\n",
        "train_ds = train_ds.batch(batch_size)\n",
        "val_ds = val_ds.batch(batch_size)"
      ]
    },
    {
      "cell_type": "code",
      "execution_count": null,
      "metadata": {
        "id": "fdZ6M-F5_QzY"
      },
      "outputs": [],
      "source": [
        "train_ds = train_ds.cache().prefetch(AUTOTUNE)\n",
        "val_ds = val_ds.cache().prefetch(AUTOTUNE)"
      ]
    },
    {
      "cell_type": "code",
      "execution_count": null,
      "metadata": {
        "id": "ALYz7PFCHblP",
        "colab": {
          "base_uri": "https://localhost:8080/"
        },
        "outputId": "c3eccd14-e526-404c-945f-68b7641f948f"
      },
      "outputs": [
        {
          "output_type": "stream",
          "name": "stdout",
          "text": [
            "Input shape: (124, 129, 1)\n",
            "Model: \"sequential\"\n",
            "_________________________________________________________________\n",
            " Layer (type)                Output Shape              Param #   \n",
            "=================================================================\n",
            " resizing (Resizing)         (None, 32, 32, 1)         0         \n",
            "                                                                 \n",
            " normalization (Normalizatio  (None, 32, 32, 1)        3         \n",
            " n)                                                              \n",
            "                                                                 \n",
            " conv2d (Conv2D)             (None, 30, 30, 32)        320       \n",
            "                                                                 \n",
            " conv2d_1 (Conv2D)           (None, 28, 28, 64)        18496     \n",
            "                                                                 \n",
            " max_pooling2d (MaxPooling2D  (None, 14, 14, 64)       0         \n",
            " )                                                               \n",
            "                                                                 \n",
            " dropout (Dropout)           (None, 14, 14, 64)        0         \n",
            "                                                                 \n",
            " flatten (Flatten)           (None, 12544)             0         \n",
            "                                                                 \n",
            " dense (Dense)               (None, 128)               1605760   \n",
            "                                                                 \n",
            " dropout_1 (Dropout)         (None, 128)               0         \n",
            "                                                                 \n",
            " dense_1 (Dense)             (None, 8)                 1032      \n",
            "                                                                 \n",
            "=================================================================\n",
            "Total params: 1,625,611\n",
            "Trainable params: 1,625,608\n",
            "Non-trainable params: 3\n",
            "_________________________________________________________________\n"
          ]
        }
      ],
      "source": [
        "for spectrogram, _ in spectrogram_ds.take(1):\n",
        "  input_shape = spectrogram.shape\n",
        "print('Input shape:', input_shape)\n",
        "num_labels = len(commands)\n",
        "\n",
        "# Instantiate the `tf.keras.layers.Normalization` layer.\n",
        "norm_layer = layers.Normalization()\n",
        "# Fit the state of the layer to the spectrograms\n",
        "# with `Normalization.adapt`.\n",
        "norm_layer.adapt(data=spectrogram_ds.map(map_func=lambda spec, label: spec))\n",
        "\n",
        "model = models.Sequential([\n",
        "    layers.Input(shape=input_shape),\n",
        "    # Downsample the input.\n",
        "    layers.Resizing(32, 32),\n",
        "    # Normalize.\n",
        "    norm_layer,\n",
        "    layers.Conv2D(32, 3, activation='relu'),\n",
        "    layers.Conv2D(64, 3, activation='relu'),\n",
        "    layers.MaxPooling2D(),\n",
        "    layers.Dropout(0.25),\n",
        "    layers.Flatten(),\n",
        "    layers.Dense(128, activation='relu'),\n",
        "    layers.Dropout(0.5),\n",
        "    layers.Dense(num_labels),\n",
        "])\n",
        "\n",
        "model.summary()"
      ]
    },
    {
      "cell_type": "markdown",
      "metadata": {
        "id": "de52e5afa2f3"
      },
      "source": [
        "Configure the Keras model with the Adam optimizer and the cross-entropy loss:"
      ]
    },
    {
      "cell_type": "code",
      "execution_count": null,
      "metadata": {
        "id": "wFjj7-EmsTD-"
      },
      "outputs": [],
      "source": [
        "model.compile(\n",
        "    optimizer=tf.keras.optimizers.Adam(),\n",
        "    loss=tf.keras.losses.SparseCategoricalCrossentropy(from_logits=True),\n",
        "    metrics=['accuracy'],\n",
        ")"
      ]
    },
    {
      "cell_type": "markdown",
      "metadata": {
        "id": "f42b9e3a4705"
      },
      "source": [
        "Train the model over 10 epochs for demonstration purposes:"
      ]
    },
    {
      "cell_type": "code",
      "execution_count": null,
      "metadata": {
        "id": "ttioPJVMcGtq",
        "colab": {
          "base_uri": "https://localhost:8080/"
        },
        "outputId": "768df68d-8892-4f43-f453-6dfd0a23b124"
      },
      "outputs": [
        {
          "output_type": "stream",
          "name": "stdout",
          "text": [
            "Epoch 1/20\n",
            "100/100 [==============================] - 31s 183ms/step - loss: 1.7256 - accuracy: 0.3795 - val_loss: 1.2389 - val_accuracy: 0.5863\n",
            "Epoch 2/20\n",
            "100/100 [==============================] - 1s 13ms/step - loss: 1.1713 - accuracy: 0.5870 - val_loss: 0.9177 - val_accuracy: 0.6950\n",
            "Epoch 3/20\n",
            "100/100 [==============================] - 1s 13ms/step - loss: 0.8925 - accuracy: 0.6877 - val_loss: 0.7994 - val_accuracy: 0.7237\n",
            "Epoch 4/20\n",
            "100/100 [==============================] - 1s 13ms/step - loss: 0.7233 - accuracy: 0.7431 - val_loss: 0.6571 - val_accuracy: 0.7800\n",
            "Epoch 5/20\n",
            "100/100 [==============================] - 1s 13ms/step - loss: 0.6367 - accuracy: 0.7748 - val_loss: 0.6181 - val_accuracy: 0.7850\n",
            "Epoch 6/20\n",
            "100/100 [==============================] - 1s 12ms/step - loss: 0.5622 - accuracy: 0.7984 - val_loss: 0.5887 - val_accuracy: 0.7950\n",
            "Epoch 7/20\n",
            "100/100 [==============================] - 1s 13ms/step - loss: 0.4845 - accuracy: 0.8278 - val_loss: 0.5893 - val_accuracy: 0.8012\n",
            "Epoch 8/20\n",
            "100/100 [==============================] - 1s 13ms/step - loss: 0.4422 - accuracy: 0.8423 - val_loss: 0.5855 - val_accuracy: 0.8050\n",
            "Epoch 9/20\n",
            "100/100 [==============================] - 1s 13ms/step - loss: 0.4002 - accuracy: 0.8592 - val_loss: 0.5573 - val_accuracy: 0.8062\n",
            "Epoch 10/20\n",
            "100/100 [==============================] - 1s 13ms/step - loss: 0.3729 - accuracy: 0.8636 - val_loss: 0.5538 - val_accuracy: 0.8087\n",
            "Epoch 11/20\n",
            "100/100 [==============================] - 1s 13ms/step - loss: 0.3634 - accuracy: 0.8687 - val_loss: 0.5227 - val_accuracy: 0.8363\n",
            "Epoch 12/20\n",
            "100/100 [==============================] - 1s 13ms/step - loss: 0.3155 - accuracy: 0.8908 - val_loss: 0.5089 - val_accuracy: 0.8363\n",
            "Epoch 13/20\n",
            "100/100 [==============================] - 1s 12ms/step - loss: 0.3003 - accuracy: 0.8938 - val_loss: 0.5801 - val_accuracy: 0.8338\n",
            "Epoch 14/20\n",
            "100/100 [==============================] - 1s 12ms/step - loss: 0.2872 - accuracy: 0.9000 - val_loss: 0.5274 - val_accuracy: 0.8462\n",
            "Epoch 14: early stopping\n"
          ]
        }
      ],
      "source": [
        "EPOCHS = 20\n",
        "history = model.fit(\n",
        "    train_ds,\n",
        "    validation_data=val_ds,\n",
        "    epochs=EPOCHS,\n",
        "    callbacks=tf.keras.callbacks.EarlyStopping(verbose=1, patience=2),\n",
        ")"
      ]
    },
    {
      "cell_type": "code",
      "execution_count": null,
      "metadata": {
        "id": "nzhipg3Gu2AY",
        "colab": {
          "base_uri": "https://localhost:8080/",
          "height": 265
        },
        "outputId": "107da93f-62f4-40da-b3e3-048ef71c754a"
      },
      "outputs": [
        {
          "output_type": "display_data",
          "data": {
            "image/png": "[encoded data removed]",
            "text/plain": [
              "<Figure size 432x288 with 1 Axes>"
            ]
          },
          "metadata": {
            "needs_background": "light"
          }
        }
      ],
      "source": [
        "metrics = history.history\n",
        "plt.plot(history.epoch, metrics['loss'], metrics['val_loss'])\n",
        "plt.legend(['loss', 'val_loss'])\n",
        "plt.show()"
      ]
    },
    {
      "cell_type": "code",
      "execution_count": null,
      "metadata": {
        "id": "biU2MwzyAo8o"
      },
      "outputs": [],
      "source": [
        "test_audio = []\n",
        "test_labels = []\n",
        "\n",
        "for audio, label in test_ds:\n",
        "  test_audio.append(audio.numpy())\n",
        "  test_labels.append(label.numpy())\n",
        "\n",
        "test_audio = np.array(test_audio)\n",
        "test_labels = np.array(test_labels)"
      ]
    },
    {
      "cell_type": "code",
      "execution_count": null,
      "metadata": {
        "id": "ktUanr9mRZky",
        "colab": {
          "base_uri": "https://localhost:8080/"
        },
        "outputId": "d7e61964-4aa2-4e1f-eca4-28072cfc812e"
      },
      "outputs": [
        {
          "output_type": "stream",
          "name": "stdout",
          "text": [
            "Test set accuracy: 85%\n"
          ]
        }
      ],
      "source": [
        "y_pred = np.argmax(model.predict(test_audio), axis=1)\n",
        "y_true = test_labels\n",
        "\n",
        "test_acc = sum(y_pred == y_true) / len(y_true)\n",
        "print(f'Test set accuracy: {test_acc:.0%}')"
      ]
    },
    {
      "cell_type": "code",
      "execution_count": null,
      "metadata": {
        "id": "LvoSAOiXU3lL",
        "colab": {
          "base_uri": "https://localhost:8080/",
          "height": 501
        },
        "outputId": "529bc61d-8e94-453c-8472-72b1466b9478"
      },
      "outputs": [
        {
          "output_type": "display_data",
          "data": {
            "image/png": "[encoded data removed]",
            "text/plain": [
              "<Figure size 720x576 with 2 Axes>"
            ]
          },
          "metadata": {
            "needs_background": "light"
          }
        }
      ],
      "source": [
        "confusion_mtx = tf.math.confusion_matrix(y_true, y_pred)\n",
        "plt.figure(figsize=(10, 8))\n",
        "sns.heatmap(confusion_mtx,\n",
        "            xticklabels=commands,\n",
        "            yticklabels=commands,\n",
        "            annot=True, fmt='g')\n",
        "plt.xlabel('Prediction')\n",
        "plt.ylabel('Label')\n",
        "plt.show()"
      ]
    },
    {
      "cell_type": "code",
      "execution_count": null,
      "metadata": {
        "id": "zRxauKMdhofU",
        "colab": {
          "base_uri": "https://localhost:8080/",
          "height": 281
        },
        "outputId": "b416be72-7268-46b3-a869-329d6763131a"
      },
      "outputs": [
        {
          "output_type": "display_data",
          "data": {
            "image/png": "[encoded data removed]",
            "text/plain": [
              "<Figure size 432x288 with 1 Axes>"
            ]
          },
          "metadata": {
            "needs_background": "light"
          }
        }
      ],
      "source": [
        "sample_file = data_dir/'no/01bb6a2a_nohash_0.wav'\n",
        "\n",
        "sample_ds = preprocess_dataset([str(sample_file)])\n",
        "\n",
        "for spectrogram, label in sample_ds.batch(1):\n",
        "  prediction = model(spectrogram)\n",
        "  plt.bar(commands, tf.nn.softmax(prediction[0]))\n",
        "  plt.title(f'Predictions for \"{commands[label[0]]}\"')\n",
        "  plt.show()"
      ]
    },
    {
      "cell_type": "code",
      "source": [
        "model.save(\"My_Model.h5\")"
      ],
      "metadata": {
        "id": "7oxXT5nfAdqb"
      },
      "execution_count": null,
      "outputs": []
    },
    {
      "cell_type": "code",
      "source": [
        "new_model=models.load_model(\"/content/My_Model.h5\")"
      ],
      "metadata": {
        "id": "HtswjYlHA2GB"
      },
      "execution_count": null,
      "outputs": []
    },
    {
      "cell_type": "code",
      "source": [
        "y_pred = np.argmax(new_model.predict(test_audio), axis=1)\n",
        "y_true = test_labels\n",
        "\n",
        "test_acc = sum(y_pred == y_true) / len(y_true)\n",
        "print(f'Test set accuracy: {test_acc:.0%}')"
      ],
      "metadata": {
        "colab": {
          "base_uri": "https://localhost:8080/"
        },
        "id": "7bDR2Z57BXDG",
        "outputId": "b8ce1cf8-66a0-499c-b52d-82c3a50b581c"
      },
      "execution_count": null,
      "outputs": [
        {
          "output_type": "stream",
          "name": "stdout",
          "text": [
            "Test set accuracy: 85%\n"
          ]
        }
      ]
    },
    {
      "cell_type": "code",
      "source": [
        "n=1\n",
        "testing_files = tf.data.Dataset.from_tensor_slices(test_files[:n])\n",
        "\n",
        "testing_waveforms = testing_files.map(\n",
        "      map_func=get_waveform_and_label,\n",
        "      num_parallel_calls=AUTOTUNE)\n",
        "for waveform, label in testing_waveforms:\n",
        "  label = label.numpy().decode('utf-8')\n",
        "  display.display(display.Audio(waveform, rate=16000))"
      ],
      "metadata": {
        "id": "c1MZBDeA2857",
        "colab": {
          "base_uri": "https://localhost:8080/",
          "height": 74
        },
        "outputId": "b2159f86-b1e7-4f7c-9d46-4368037f77e6"
      },
      "execution_count": null,
      "outputs": [
        {
          "output_type": "display_data",
          "data": {
            "text/html": [
              "\n",
              "                <audio controls=\"controls\" >\n",
              "                    <source src=\"data:audio/wav;base64,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\" type=\"audio/wav\" />\n",
              "                    Your browser does not support the audio element.\n",
              "                </audio>\n",
              "              "
            ],
            "text/plain": [
              "<IPython.lib.display.Audio object>"
            ]
          },
          "metadata": {}
        }
      ]
    },
    {
      "cell_type": "code",
      "source": [
        "testing_ds = testing_waveforms.map(\n",
        "      map_func=get_spectrogram_and_label_id,\n",
        "      num_parallel_calls=AUTOTUNE)\n",
        "\n",
        "testing_audio = []\n",
        "testing_labels = []\n",
        "\n",
        "for audio, label in testing_ds :\n",
        "  testing_audio.append(audio.numpy())\n",
        "  testing_labels.append(label.numpy())\n",
        "\n",
        "testing_audio = np.array(testing_audio)\n",
        "testing_labels = np.array(testing_labels)"
      ],
      "metadata": {
        "id": "07291mns7jko"
      },
      "execution_count": null,
      "outputs": []
    },
    {
      "cell_type": "code",
      "source": [
        "predictions = np.argmax(model.predict(testing_audio),axis=1)\n",
        "print(predictions)"
      ],
      "metadata": {
        "id": "4DgbDunt7jzE",
        "colab": {
          "base_uri": "https://localhost:8080/"
        },
        "outputId": "597ab883-8127-47b6-f6ac-64ec368c6b66"
      },
      "execution_count": null,
      "outputs": [
        {
          "output_type": "stream",
          "name": "stdout",
          "text": [
            "[6]\n"
          ]
        }
      ]
    },
    {
      "cell_type": "code",
      "source": [
        "for i in range(n):\n",
        "  print(\"Predicted label is:\",commands[predictions[i]],\" and true label is\",commands[testing_labels[i]])"
      ],
      "metadata": {
        "id": "HVdYbgID7kIK",
        "colab": {
          "base_uri": "https://localhost:8080/"
        },
        "outputId": "1edff35f-dba1-43e2-af6a-85cc1492b8b1"
      },
      "execution_count": null,
      "outputs": [
        {
          "output_type": "stream",
          "name": "stdout",
          "text": [
            "Predicted label is: go  and true label is go\n"
          ]
        }
      ]
    },
    {
      "cell_type": "code",
      "source": [
        "with open('final_command.txt', 'w') as f:\n",
        "    f.write(str(predictions))"
      ],
      "metadata": {
        "id": "9dp8mV67ZuyY"
      },
      "execution_count": null,
      "outputs": []
    },
    {
      "cell_type": "code",
      "source": [
        ""
      ],
      "metadata": {
        "id": "0r0_MHkLZ1pC"
      },
      "execution_count": null,
      "outputs": []
    }
  ],
  "metadata": {
    "accelerator": "GPU",
    "colab": {
      "collapsed_sections": [],
      "name": "VOC.ipynb",
      "provenance": []
    },
    "kernelspec": {
      "display_name": "Python 3",
      "name": "python3"
    }
  },
  "nbformat": 4,
  "nbformat_minor": 0
}